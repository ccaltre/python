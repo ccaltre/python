{
 "cells": [
  {
   "cell_type": "markdown",
   "metadata": {},
   "source": [
    "## Boosting: Fit and evaluate a model\n",
    "\n",
    "Using the Titanic dataset from [this](https://www.kaggle.com/c/titanic/overview) Kaggle competition.\n",
    "\n",
    "In this section, we will fit and evaluate a simple Gradient Boosting model."
   ]
  },
  {
   "cell_type": "markdown",
   "metadata": {},
   "source": [
    "### Read in Data"
   ]
  },
  {
   "cell_type": "code",
   "execution_count": 1,
   "metadata": {},
   "outputs": [],
   "source": [
    "import joblib\n",
    "import pandas as pd\n",
    "from sklearn.ensemble import GradientBoostingClassifier\n",
    "from sklearn.model_selection import GridSearchCV\n",
    "import warnings\n",
    "warnings.filterwarnings('ignore', category=FutureWarning)\n",
    "warnings.filterwarnings('ignore', category=DeprecationWarning)\n",
    "\n",
    "tr_features = pd.read_csv('../../../train_features.csv')\n",
    "tr_labels = pd.read_csv('../../../train_labels.csv', header=None)"
   ]
  },
  {
   "cell_type": "markdown",
   "metadata": {},
   "source": [
    "### Hyperparameter tuning\n",
    "\n",
    "![GB](../../img/gb.png)"
   ]
  },
  {
   "cell_type": "code",
   "execution_count": 2,
   "metadata": {},
   "outputs": [],
   "source": [
    "def print_results(results):\n",
    "    print('BEST PARAMS: {}\\n'.format(results.best_params_))\n",
    "\n",
    "    means = results.cv_results_['mean_test_score']\n",
    "    stds = results.cv_results_['std_test_score']\n",
    "    for mean, std, params in zip(means, stds, results.cv_results_['params']):\n",
    "        print('{} (+/-{}) for {}'.format(round(mean, 3), round(std * 2, 3), params))"
   ]
  },
  {
   "cell_type": "code",
   "execution_count": 4,
   "metadata": {},
   "outputs": [
    {
     "name": "stdout",
     "output_type": "stream",
     "text": [
      "BEST PARAMS: {'learning_rate': 0.1, 'max_depth': 3, 'n_estimators': 50}\n",
      "\n",
      "0.624 (+/-0.005) for {'learning_rate': 0.01, 'max_depth': 1, 'n_estimators': 5}\n",
      "0.796 (+/-0.116) for {'learning_rate': 0.01, 'max_depth': 1, 'n_estimators': 50}\n",
      "0.796 (+/-0.116) for {'learning_rate': 0.01, 'max_depth': 1, 'n_estimators': 250}\n",
      "0.624 (+/-0.005) for {'learning_rate': 0.01, 'max_depth': 3, 'n_estimators': 5}\n",
      "0.811 (+/-0.071) for {'learning_rate': 0.01, 'max_depth': 3, 'n_estimators': 50}\n",
      "0.83 (+/-0.076) for {'learning_rate': 0.01, 'max_depth': 3, 'n_estimators': 250}\n",
      "0.624 (+/-0.005) for {'learning_rate': 0.01, 'max_depth': 5, 'n_estimators': 5}\n",
      "0.82 (+/-0.052) for {'learning_rate': 0.01, 'max_depth': 5, 'n_estimators': 50}\n",
      "0.82 (+/-0.039) for {'learning_rate': 0.01, 'max_depth': 5, 'n_estimators': 250}\n",
      "0.624 (+/-0.005) for {'learning_rate': 0.01, 'max_depth': 7, 'n_estimators': 5}\n",
      "0.816 (+/-0.05) for {'learning_rate': 0.01, 'max_depth': 7, 'n_estimators': 50}\n",
      "0.816 (+/-0.035) for {'learning_rate': 0.01, 'max_depth': 7, 'n_estimators': 250}\n",
      "0.624 (+/-0.005) for {'learning_rate': 0.01, 'max_depth': 9, 'n_estimators': 5}\n",
      "0.801 (+/-0.055) for {'learning_rate': 0.01, 'max_depth': 9, 'n_estimators': 50}\n",
      "0.803 (+/-0.031) for {'learning_rate': 0.01, 'max_depth': 9, 'n_estimators': 250}\n",
      "0.796 (+/-0.116) for {'learning_rate': 0.1, 'max_depth': 1, 'n_estimators': 5}\n",
      "0.815 (+/-0.12) for {'learning_rate': 0.1, 'max_depth': 1, 'n_estimators': 50}\n",
      "0.818 (+/-0.112) for {'learning_rate': 0.1, 'max_depth': 1, 'n_estimators': 250}\n",
      "0.813 (+/-0.073) for {'learning_rate': 0.1, 'max_depth': 3, 'n_estimators': 5}\n",
      "0.837 (+/-0.077) for {'learning_rate': 0.1, 'max_depth': 3, 'n_estimators': 50}\n",
      "0.83 (+/-0.04) for {'learning_rate': 0.1, 'max_depth': 3, 'n_estimators': 250}\n",
      "0.815 (+/-0.046) for {'learning_rate': 0.1, 'max_depth': 5, 'n_estimators': 5}\n",
      "0.826 (+/-0.02) for {'learning_rate': 0.1, 'max_depth': 5, 'n_estimators': 50}\n",
      "0.807 (+/-0.069) for {'learning_rate': 0.1, 'max_depth': 5, 'n_estimators': 250}\n",
      "0.82 (+/-0.054) for {'learning_rate': 0.1, 'max_depth': 7, 'n_estimators': 5}\n",
      "0.798 (+/-0.028) for {'learning_rate': 0.1, 'max_depth': 7, 'n_estimators': 50}\n",
      "0.8 (+/-0.05) for {'learning_rate': 0.1, 'max_depth': 7, 'n_estimators': 250}\n",
      "0.798 (+/-0.045) for {'learning_rate': 0.1, 'max_depth': 9, 'n_estimators': 5}\n",
      "0.787 (+/-0.028) for {'learning_rate': 0.1, 'max_depth': 9, 'n_estimators': 50}\n",
      "0.788 (+/-0.017) for {'learning_rate': 0.1, 'max_depth': 9, 'n_estimators': 250}\n",
      "0.818 (+/-0.1) for {'learning_rate': 1, 'max_depth': 1, 'n_estimators': 5}\n",
      "0.83 (+/-0.078) for {'learning_rate': 1, 'max_depth': 1, 'n_estimators': 50}\n",
      "0.828 (+/-0.069) for {'learning_rate': 1, 'max_depth': 1, 'n_estimators': 250}\n",
      "0.824 (+/-0.059) for {'learning_rate': 1, 'max_depth': 3, 'n_estimators': 5}\n",
      "0.794 (+/-0.038) for {'learning_rate': 1, 'max_depth': 3, 'n_estimators': 50}\n",
      "0.805 (+/-0.043) for {'learning_rate': 1, 'max_depth': 3, 'n_estimators': 250}\n",
      "0.807 (+/-0.05) for {'learning_rate': 1, 'max_depth': 5, 'n_estimators': 5}\n",
      "0.796 (+/-0.041) for {'learning_rate': 1, 'max_depth': 5, 'n_estimators': 50}\n",
      "0.801 (+/-0.09) for {'learning_rate': 1, 'max_depth': 5, 'n_estimators': 250}\n",
      "0.79 (+/-0.031) for {'learning_rate': 1, 'max_depth': 7, 'n_estimators': 5}\n",
      "0.798 (+/-0.058) for {'learning_rate': 1, 'max_depth': 7, 'n_estimators': 50}\n",
      "0.807 (+/-0.043) for {'learning_rate': 1, 'max_depth': 7, 'n_estimators': 250}\n",
      "0.781 (+/-0.041) for {'learning_rate': 1, 'max_depth': 9, 'n_estimators': 5}\n",
      "0.781 (+/-0.035) for {'learning_rate': 1, 'max_depth': 9, 'n_estimators': 50}\n",
      "0.796 (+/-0.055) for {'learning_rate': 1, 'max_depth': 9, 'n_estimators': 250}\n",
      "0.204 (+/-0.116) for {'learning_rate': 10, 'max_depth': 1, 'n_estimators': 5}\n",
      "0.204 (+/-0.116) for {'learning_rate': 10, 'max_depth': 1, 'n_estimators': 50}\n",
      "0.204 (+/-0.116) for {'learning_rate': 10, 'max_depth': 1, 'n_estimators': 250}\n",
      "0.311 (+/-0.192) for {'learning_rate': 10, 'max_depth': 3, 'n_estimators': 5}\n",
      "0.311 (+/-0.192) for {'learning_rate': 10, 'max_depth': 3, 'n_estimators': 50}\n",
      "0.311 (+/-0.192) for {'learning_rate': 10, 'max_depth': 3, 'n_estimators': 250}\n",
      "0.506 (+/-0.323) for {'learning_rate': 10, 'max_depth': 5, 'n_estimators': 5}\n",
      "0.464 (+/-0.326) for {'learning_rate': 10, 'max_depth': 5, 'n_estimators': 50}\n",
      "0.393 (+/-0.194) for {'learning_rate': 10, 'max_depth': 5, 'n_estimators': 250}\n",
      "0.65 (+/-0.108) for {'learning_rate': 10, 'max_depth': 7, 'n_estimators': 5}\n",
      "0.607 (+/-0.185) for {'learning_rate': 10, 'max_depth': 7, 'n_estimators': 50}\n",
      "0.605 (+/-0.184) for {'learning_rate': 10, 'max_depth': 7, 'n_estimators': 250}\n",
      "0.708 (+/-0.121) for {'learning_rate': 10, 'max_depth': 9, 'n_estimators': 5}\n",
      "0.725 (+/-0.153) for {'learning_rate': 10, 'max_depth': 9, 'n_estimators': 50}\n",
      "0.723 (+/-0.124) for {'learning_rate': 10, 'max_depth': 9, 'n_estimators': 250}\n",
      "0.376 (+/-0.005) for {'learning_rate': 100, 'max_depth': 1, 'n_estimators': 5}\n",
      "0.376 (+/-0.005) for {'learning_rate': 100, 'max_depth': 1, 'n_estimators': 50}\n",
      "0.376 (+/-0.005) for {'learning_rate': 100, 'max_depth': 1, 'n_estimators': 250}\n",
      "0.29 (+/-0.104) for {'learning_rate': 100, 'max_depth': 3, 'n_estimators': 5}\n",
      "0.29 (+/-0.104) for {'learning_rate': 100, 'max_depth': 3, 'n_estimators': 50}\n",
      "0.29 (+/-0.104) for {'learning_rate': 100, 'max_depth': 3, 'n_estimators': 250}\n",
      "0.375 (+/-0.176) for {'learning_rate': 100, 'max_depth': 5, 'n_estimators': 5}\n",
      "0.371 (+/-0.176) for {'learning_rate': 100, 'max_depth': 5, 'n_estimators': 50}\n",
      "0.363 (+/-0.17) for {'learning_rate': 100, 'max_depth': 5, 'n_estimators': 250}\n",
      "0.528 (+/-0.165) for {'learning_rate': 100, 'max_depth': 7, 'n_estimators': 5}\n",
      "0.564 (+/-0.129) for {'learning_rate': 100, 'max_depth': 7, 'n_estimators': 50}\n",
      "0.564 (+/-0.17) for {'learning_rate': 100, 'max_depth': 7, 'n_estimators': 250}\n",
      "0.669 (+/-0.102) for {'learning_rate': 100, 'max_depth': 9, 'n_estimators': 5}\n",
      "0.663 (+/-0.084) for {'learning_rate': 100, 'max_depth': 9, 'n_estimators': 50}\n",
      "0.667 (+/-0.05) for {'learning_rate': 100, 'max_depth': 9, 'n_estimators': 250}\n"
     ]
    }
   ],
   "source": [
    "gb = GradientBoostingClassifier()\n",
    "parameters = {\n",
    "    'n_estimators': [5, 50, 250],\n",
    "    'max_depth': [1, 3, 5, 7, 9],\n",
    "    'learning_rate': [0.01, 0.1, 1, 10, 100]\n",
    "}\n",
    "cv = GridSearchCV(gb, parameters, cv=5)\n",
    "cv.fit(tr_features, tr_labels.values.ravel())\n",
    "\n",
    "print_results(cv)"
   ]
  },
  {
   "cell_type": "markdown",
   "metadata": {},
   "source": [
    "### Write out pickled model"
   ]
  },
  {
   "cell_type": "code",
   "execution_count": 5,
   "metadata": {},
   "outputs": [
    {
     "data": {
      "text/plain": [
       "['..\\\\..\\\\..\\\\Boosting.pkl']"
      ]
     },
     "execution_count": 5,
     "metadata": {},
     "output_type": "execute_result"
    }
   ],
   "source": [
    "joblib.dump(cv.best_estimator_, '..\\..\\..\\Boosting.pkl')"
   ]
  }
 ],
 "metadata": {
  "kernelspec": {
   "display_name": "Python 3",
   "language": "python",
   "name": "python3"
  },
  "language_info": {
   "codemirror_mode": {
    "name": "ipython",
    "version": 3
   },
   "file_extension": ".py",
   "mimetype": "text/x-python",
   "name": "python",
   "nbconvert_exporter": "python",
   "pygments_lexer": "ipython3",
   "version": "3.7.1"
  }
 },
 "nbformat": 4,
 "nbformat_minor": 2
}
